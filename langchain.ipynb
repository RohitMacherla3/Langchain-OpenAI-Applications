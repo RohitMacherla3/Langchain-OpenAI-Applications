{
 "cells": [
  {
   "cell_type": "code",
   "execution_count": 42,
   "metadata": {},
   "outputs": [],
   "source": [
    "import os\n",
    "os.environ['OPENAI_API_KEY'] = 'YOUR_API_KEY'"
   ]
  },
  {
   "cell_type": "code",
   "execution_count": 73,
   "metadata": {},
   "outputs": [
    {
     "name": "stdout",
     "output_type": "stream",
     "text": [
      "\n",
      "\n",
      "The capital of India is New Delhi.\n"
     ]
    }
   ],
   "source": [
    "from langchain_openai import OpenAI \n",
    "llm = OpenAI(temperature=0.2)\n",
    "\n",
    "text = \"What is the capital of India?\"\n",
    "print(llm.invoke(text))"
   ]
  },
  {
   "cell_type": "markdown",
   "metadata": {},
   "source": [
    "### Prompt Templates with LLMs\n",
    "- llm, not chatmodel (output a string and not a message)"
   ]
  },
  {
   "cell_type": "code",
   "execution_count": 74,
   "metadata": {},
   "outputs": [
    {
     "name": "stdout",
     "output_type": "stream",
     "text": [
      "\n",
      "\n",
      "The capital of India is New Delhi.\n"
     ]
    }
   ],
   "source": [
    "from langchain.prompts import PromptTemplate\n",
    "\n",
    "prompt_template = PromptTemplate(input_variables=['country'],\n",
    "                                 template = \"What is the capital of {country}?\")\n",
    "\n",
    "from langchain.chains import LLMChain\n",
    "chain = LLMChain(llm=llm, prompt=prompt_template)\n",
    "\n",
    "print(chain.run('India'))"
   ]
  },
  {
   "cell_type": "code",
   "execution_count": 75,
   "metadata": {},
   "outputs": [
    {
     "name": "stdout",
     "output_type": "stream",
     "text": [
      "\n",
      "\n",
      "1. Red Fort\n",
      "2. India Gate\n",
      "3. Qutub Minar\n",
      "4. Humayun's Tomb\n",
      "5. Lotus Temple\n",
      "6. Jama Masjid\n",
      "7. Rashtrapati Bhavan\n",
      "8. Akshardham Temple\n",
      "9. Chandni Chowk\n",
      "10. Connaught Place\n",
      "11. National Museum\n",
      "12. Raj Ghat\n",
      "13. Jantar Mantar\n",
      "14. Gurudwara Bangla Sahib\n",
      "15. Dilli Haat\n",
      "16. Nehru Planetarium\n",
      "17. National Gallery of Modern Art\n",
      "18. Lodhi Gardens\n",
      "19. Hauz Khas Village\n",
      "20. Dilli Haat.\n"
     ]
    }
   ],
   "source": [
    "template_1 = PromptTemplate(input_variables=['country'], \n",
    "                            template='What is the Capital of {country}?')\n",
    "chain_1 = LLMChain(llm=llm, prompt=template_1)\n",
    "\n",
    "template_2 = PromptTemplate(input_variables=['capital'],\n",
    "                            template='What are some of the famous places to visit in {capital}?')\n",
    "chain_2 = LLMChain(llm=llm, prompt=template_2)\n",
    "\n",
    "from langchain.chains import SimpleSequentialChain\n",
    "\n",
    "combined_chain = SimpleSequentialChain(chains=[chain_1, chain_2])\n",
    "print(combined_chain.run('India'))\n"
   ]
  },
  {
   "cell_type": "markdown",
   "metadata": {},
   "source": [
    "### Chat Models with ChatOpenAI\n",
    "- chat model, not LLM (outputs message and  not a string)"
   ]
  },
  {
   "cell_type": "code",
   "execution_count": 76,
   "metadata": {},
   "outputs": [
    {
     "name": "stdout",
     "output_type": "stream",
     "text": [
      "One of the most fascinating theories about three-body systems in astrophysics is the concept of the \"three-body problem.\" This problem arises when trying to predict the motion of three celestial bodies that are interacting with each other through gravitational forces.\n",
      "\n",
      "In a three-body system, the gravitational forces between each body can create complex and unpredictable behaviors. The three-body problem is known for its mathematical complexity and the difficulty in finding exact solutions. In fact, it has been proven that there is no general analytical solution for the three-body problem in classical mechanics.\n",
      "\n",
      "However, the three-body problem has led to the development of chaos theory, which studies the behavior of dynamical systems that are highly sensitive to initial conditions. This has profound implications for understanding the dynamics of celestial systems, such as planetary orbits, star clusters, and even galaxies.\n",
      "\n",
      "Studying three-body systems can provide insights into the stability and evolution of celestial objects, as well as help us understand the formation and dynamics of complex systems in the universe. The interactions between three bodies can lead to fascinating phenomena such as resonances, chaotic orbits, and even the ejection of one body from the system.\n",
      "\n",
      "Overall, the study of three-body systems continues to be a rich area of research in astrophysics, offering new perspectives on the fundamental forces that govern the behavior of celestial objects in the cosmos.\n"
     ]
    }
   ],
   "source": [
    "from langchain_openai import ChatOpenAI \n",
    "from langchain_core.prompts import ChatPromptTemplate\n",
    "from langchain_core.output_parsers import StrOutputParser\n",
    "\n",
    "chatllm = ChatOpenAI(temperature=0.2, model='gpt-3.5-turbo')\n",
    "\n",
    "prompt = ChatPromptTemplate.from_messages([\n",
    "    (\"system\", \"You are a Astro-Physisist\"),\n",
    "    (\"user\", \"{input}\")\n",
    "])\n",
    "\n",
    "output_parser = StrOutputParser()\n",
    "\n",
    "chain = prompt | chatllm | output_parser\n",
    "\n",
    "print(chain.invoke({'input': 'Give me the most interesting theory about three body systems'}))\n"
   ]
  },
  {
   "cell_type": "code",
   "execution_count": null,
   "metadata": {},
   "outputs": [],
   "source": []
  },
  {
   "cell_type": "markdown",
   "metadata": {},
   "source": []
  }
 ],
 "metadata": {
  "kernelspec": {
   "display_name": "Python 3",
   "language": "python",
   "name": "python3"
  },
  "language_info": {
   "codemirror_mode": {
    "name": "ipython",
    "version": 3
   },
   "file_extension": ".py",
   "mimetype": "text/x-python",
   "name": "python",
   "nbconvert_exporter": "python",
   "pygments_lexer": "ipython3",
   "version": "3.10.0"
  }
 },
 "nbformat": 4,
 "nbformat_minor": 2
}
